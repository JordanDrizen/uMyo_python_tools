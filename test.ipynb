{
 "cells": [
  {
   "cell_type": "code",
   "execution_count": 73,
   "id": "74598fbd",
   "metadata": {},
   "outputs": [],
   "source": [
    "import pandas as pd\n",
    "import polars as pl"
   ]
  },
  {
   "cell_type": "code",
   "execution_count": null,
   "id": "fc5aeaf9",
   "metadata": {},
   "outputs": [],
   "source": [
    "def read_df(file_name):\n",
    "    df = pd.read_csv(file_name)\n",
    "    return df"
   ]
  },
  {
   "cell_type": "code",
   "execution_count": 157,
   "id": "fdbe914e",
   "metadata": {},
   "outputs": [],
   "source": [
    "file = \"umyo_data_20250804_152848.csv\""
   ]
  },
  {
   "cell_type": "code",
   "execution_count": 161,
   "id": "40e839ee",
   "metadata": {},
   "outputs": [],
   "source": [
    "df = pl.read_csv(file)"
   ]
  },
  {
   "cell_type": "code",
   "execution_count": 164,
   "id": "6a8168b1",
   "metadata": {},
   "outputs": [
    {
     "data": {
      "text/html": [
       "<div><style>\n",
       ".dataframe > thead > tr,\n",
       ".dataframe > tbody > tr {\n",
       "  text-align: right;\n",
       "  white-space: pre-wrap;\n",
       "}\n",
       "</style>\n",
       "<small>shape: (543, 32)</small><table border=\"1\" class=\"dataframe\"><thead><tr><th>timestamp</th><th>device_id</th><th>data_id</th><th>rssi</th><th>battery_mv</th><th>emg_sample_count</th><th>emg_ch_0</th><th>emg_ch_1</th><th>emg_ch_2</th><th>emg_ch_3</th><th>emg_ch_4</th><th>emg_ch_5</th><th>emg_ch_6</th><th>emg_ch_7</th><th>spectrum_0</th><th>spectrum_1</th><th>spectrum_2</th><th>spectrum_3</th><th>quat_w</th><th>quat_x</th><th>quat_y</th><th>quat_z</th><th>accel_x</th><th>accel_y</th><th>accel_z</th><th>yaw</th><th>pitch</th><th>roll</th><th>mag_x</th><th>mag_y</th><th>mag_z</th><th>mag_angle</th></tr><tr><td>f64</td><td>str</td><td>i64</td><td>i64</td><td>i64</td><td>i64</td><td>i64</td><td>i64</td><td>i64</td><td>i64</td><td>i64</td><td>i64</td><td>i64</td><td>i64</td><td>i64</td><td>i64</td><td>i64</td><td>i64</td><td>i64</td><td>i64</td><td>i64</td><td>i64</td><td>i64</td><td>i64</td><td>i64</td><td>i64</td><td>f64</td><td>i64</td><td>i64</td><td>i64</td><td>i64</td><td>f64</td></tr></thead><tbody><tr><td>0.013132</td><td>&quot;CDAAC2D8&quot;</td><td>61</td><td>66</td><td>2480</td><td>8</td><td>17361</td><td>17390</td><td>17401</td><td>17415</td><td>17423</td><td>17398</td><td>17394</td><td>17401</td><td>8111</td><td>78</td><td>30</td><td>46</td><td>18317</td><td>-11636</td><td>-23057</td><td>-4624</td><td>-10540</td><td>8447</td><td>9336</td><td>-18286</td><td>36.75</td><td>-547</td><td>0</td><td>0</td><td>0</td><td>2.817198</td></tr><tr><td>0.026275</td><td>&quot;CDAAC2D8&quot;</td><td>63</td><td>66</td><td>2480</td><td>8</td><td>17429</td><td>17422</td><td>17410</td><td>17424</td><td>17425</td><td>17416</td><td>17418</td><td>17412</td><td>8284</td><td>4</td><td>26</td><td>22</td><td>18320</td><td>-11634</td><td>-23054</td><td>-4635</td><td>-10601</td><td>8462</td><td>9381</td><td>-18286</td><td>104.826875</td><td>-547</td><td>0</td><td>0</td><td>0</td><td>2.81014</td></tr><tr><td>0.039252</td><td>&quot;CDAAC2D8&quot;</td><td>65</td><td>66</td><td>2480</td><td>8</td><td>17395</td><td>17395</td><td>17389</td><td>17397</td><td>17397</td><td>17381</td><td>17401</td><td>17422</td><td>8105</td><td>32</td><td>43</td><td>29</td><td>18324</td><td>-11632</td><td>-23050</td><td>-4646</td><td>-10610</td><td>8437</td><td>9341</td><td>-18286</td><td>166.173755</td><td>-547</td><td>0</td><td>0</td><td>0</td><td>2.808256</td></tr><tr><td>0.052275</td><td>&quot;CDAAC2D8&quot;</td><td>67</td><td>66</td><td>2480</td><td>8</td><td>17396</td><td>17400</td><td>17400</td><td>17419</td><td>17438</td><td>17421</td><td>17425</td><td>17429</td><td>8256</td><td>68</td><td>28</td><td>34</td><td>18327</td><td>-11631</td><td>-23046</td><td>-4655</td><td>-10593</td><td>8479</td><td>9368</td><td>-18286</td><td>221.779314</td><td>-546</td><td>0</td><td>0</td><td>0</td><td>2.811199</td></tr><tr><td>0.065533</td><td>&quot;CDAAC2D8&quot;</td><td>69</td><td>66</td><td>2480</td><td>8</td><td>17402</td><td>17388</td><td>17365</td><td>17370</td><td>17400</td><td>17398</td><td>17416</td><td>17411</td><td>8078</td><td>90</td><td>21</td><td>24</td><td>18328</td><td>-11630</td><td>-23044</td><td>-4662</td><td>-10614</td><td>8453</td><td>9323</td><td>-18286</td><td>271.868331</td><td>-546</td><td>0</td><td>0</td><td>0</td><td>2.820413</td></tr><tr><td>&hellip;</td><td>&hellip;</td><td>&hellip;</td><td>&hellip;</td><td>&hellip;</td><td>&hellip;</td><td>&hellip;</td><td>&hellip;</td><td>&hellip;</td><td>&hellip;</td><td>&hellip;</td><td>&hellip;</td><td>&hellip;</td><td>&hellip;</td><td>&hellip;</td><td>&hellip;</td><td>&hellip;</td><td>&hellip;</td><td>&hellip;</td><td>&hellip;</td><td>&hellip;</td><td>&hellip;</td><td>&hellip;</td><td>&hellip;</td><td>&hellip;</td><td>&hellip;</td><td>&hellip;</td><td>&hellip;</td><td>&hellip;</td><td>&hellip;</td><td>&hellip;</td><td>&hellip;</td></tr><tr><td>7.1603</td><td>&quot;CDAAC2D8&quot;</td><td>1177</td><td>65</td><td>2470</td><td>8</td><td>16752</td><td>16748</td><td>16740</td><td>16745</td><td>16749</td><td>16734</td><td>16742</td><td>16743</td><td>2881</td><td>14</td><td>19</td><td>14</td><td>23827</td><td>-16372</td><td>-12955</td><td>-4511</td><td>-6949</td><td>13992</td><td>4816</td><td>-17459</td><td>1236.692076</td><td>149</td><td>0</td><td>0</td><td>0</td><td>2.174982</td></tr><tr><td>7.171925</td><td>&quot;CDAAC2D8&quot;</td><td>1179</td><td>64</td><td>2470</td><td>8</td><td>16753</td><td>16747</td><td>16745</td><td>16734</td><td>16740</td><td>16739</td><td>16736</td><td>16753</td><td>2875</td><td>32</td><td>12</td><td>17</td><td>23831</td><td>-16371</td><td>-12948</td><td>-4512</td><td>-6948</td><td>14101</td><td>4847</td><td>-17460</td><td>1236.967099</td><td>149</td><td>0</td><td>0</td><td>0</td><td>2.183369</td></tr><tr><td>7.184838</td><td>&quot;CDAAC2D8&quot;</td><td>1181</td><td>64</td><td>2470</td><td>8</td><td>16738</td><td>16735</td><td>16743</td><td>16751</td><td>16767</td><td>16763</td><td>16762</td><td>16766</td><td>2953</td><td>62</td><td>19</td><td>22</td><td>23834</td><td>-16371</td><td>-12942</td><td>-4513</td><td>-7011</td><td>14099</td><td>4926</td><td>-17460</td><td>1236.870307</td><td>149</td><td>0</td><td>0</td><td>0</td><td>2.15326</td></tr><tr><td>7.197788</td><td>&quot;CDAAC2D8&quot;</td><td>1183</td><td>64</td><td>2470</td><td>8</td><td>16751</td><td>16772</td><td>16777</td><td>16771</td><td>16768</td><td>16755</td><td>16742</td><td>16753</td><td>3017</td><td>62</td><td>3</td><td>19</td><td>23836</td><td>-16371</td><td>-12938</td><td>-4513</td><td>-6980</td><td>14173</td><td>5005</td><td>-17460</td><td>1236.345452</td><td>149</td><td>0</td><td>0</td><td>0</td><td>2.159423</td></tr><tr><td>7.210705</td><td>&quot;CDAAC2D8&quot;</td><td>1185</td><td>64</td><td>2470</td><td>8</td><td>16765</td><td>16757</td><td>16766</td><td>16754</td><td>16756</td><td>16743</td><td>16723</td><td>16725</td><td>2917</td><td>73</td><td>38</td><td>23</td><td>23837</td><td>-16374</td><td>-12933</td><td>-4515</td><td>-6999</td><td>13982</td><td>4934</td><td>-17460</td><td>1235.87427</td><td>149</td><td>0</td><td>0</td><td>0</td><td>2.150298</td></tr></tbody></table></div>"
      ],
      "text/plain": [
       "shape: (543, 32)\n",
       "┌───────────┬───────────┬─────────┬──────┬───┬───────┬───────┬───────┬───────────┐\n",
       "│ timestamp ┆ device_id ┆ data_id ┆ rssi ┆ … ┆ mag_x ┆ mag_y ┆ mag_z ┆ mag_angle │\n",
       "│ ---       ┆ ---       ┆ ---     ┆ ---  ┆   ┆ ---   ┆ ---   ┆ ---   ┆ ---       │\n",
       "│ f64       ┆ str       ┆ i64     ┆ i64  ┆   ┆ i64   ┆ i64   ┆ i64   ┆ f64       │\n",
       "╞═══════════╪═══════════╪═════════╪══════╪═══╪═══════╪═══════╪═══════╪═══════════╡\n",
       "│ 0.013132  ┆ CDAAC2D8  ┆ 61      ┆ 66   ┆ … ┆ 0     ┆ 0     ┆ 0     ┆ 2.817198  │\n",
       "│ 0.026275  ┆ CDAAC2D8  ┆ 63      ┆ 66   ┆ … ┆ 0     ┆ 0     ┆ 0     ┆ 2.81014   │\n",
       "│ 0.039252  ┆ CDAAC2D8  ┆ 65      ┆ 66   ┆ … ┆ 0     ┆ 0     ┆ 0     ┆ 2.808256  │\n",
       "│ 0.052275  ┆ CDAAC2D8  ┆ 67      ┆ 66   ┆ … ┆ 0     ┆ 0     ┆ 0     ┆ 2.811199  │\n",
       "│ 0.065533  ┆ CDAAC2D8  ┆ 69      ┆ 66   ┆ … ┆ 0     ┆ 0     ┆ 0     ┆ 2.820413  │\n",
       "│ …         ┆ …         ┆ …       ┆ …    ┆ … ┆ …     ┆ …     ┆ …     ┆ …         │\n",
       "│ 7.1603    ┆ CDAAC2D8  ┆ 1177    ┆ 65   ┆ … ┆ 0     ┆ 0     ┆ 0     ┆ 2.174982  │\n",
       "│ 7.171925  ┆ CDAAC2D8  ┆ 1179    ┆ 64   ┆ … ┆ 0     ┆ 0     ┆ 0     ┆ 2.183369  │\n",
       "│ 7.184838  ┆ CDAAC2D8  ┆ 1181    ┆ 64   ┆ … ┆ 0     ┆ 0     ┆ 0     ┆ 2.15326   │\n",
       "│ 7.197788  ┆ CDAAC2D8  ┆ 1183    ┆ 64   ┆ … ┆ 0     ┆ 0     ┆ 0     ┆ 2.159423  │\n",
       "│ 7.210705  ┆ CDAAC2D8  ┆ 1185    ┆ 64   ┆ … ┆ 0     ┆ 0     ┆ 0     ┆ 2.150298  │\n",
       "└───────────┴───────────┴─────────┴──────┴───┴───────┴───────┴───────┴───────────┘"
      ]
     },
     "execution_count": 164,
     "metadata": {},
     "output_type": "execute_result"
    }
   ],
   "source": [
    "df"
   ]
  },
  {
   "cell_type": "code",
   "execution_count": null,
   "id": "30014789",
   "metadata": {},
   "outputs": [],
   "source": []
  }
 ],
 "metadata": {
  "kernelspec": {
   "display_name": "umyo_env",
   "language": "python",
   "name": "python3"
  },
  "language_info": {
   "codemirror_mode": {
    "name": "ipython",
    "version": 3
   },
   "file_extension": ".py",
   "mimetype": "text/x-python",
   "name": "python",
   "nbconvert_exporter": "python",
   "pygments_lexer": "ipython3",
   "version": "3.12.2"
  }
 },
 "nbformat": 4,
 "nbformat_minor": 5
}
